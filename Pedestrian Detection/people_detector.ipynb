{
 "cells": [
  {
   "cell_type": "code",
   "execution_count": null,
   "metadata": {},
   "outputs": [],
   "source": [
    "from __future__ import print_function\n",
    "from imutils.object_detection import non_max_suppression\n",
    "from imutils import paths\n",
    "from imutils.video import VideoStream\n",
    "import numpy as np\n",
    "import argparse\n",
    "import imutils\n",
    "import time\n",
    "import cv2\n",
    "\n",
    "#my resolution\n",
    "#1366 x 768\n",
    "winHeight = int(768 * 0.9)\n",
    "winWidth = int(1366 * 0.9)\n",
    "\n",
    "cv2.namedWindow('window', cv2.WINDOW_NORMAL)\n",
    "cv2.resizeWindow('window', winWidth,winHeight)\n",
    "#cap = cv2.VideoCapture(0)\n",
    "vs = VideoStream(src=0).start()\n",
    "time.sleep(2.0)\n",
    "\n",
    "\n",
    "# initialize the HOG descriptor/person detector\n",
    "hog = cv2.HOGDescriptor()\n",
    "hog.setSVMDetector(cv2.HOGDescriptor_getDefaultPeopleDetector())\n",
    "\n",
    "while True:\n",
    "    #ret , frame = cap.read()\n",
    "    frame = vs.read()\n",
    "    #scale down\n",
    "    height, width = frame.shape[:2]\n",
    "    frame = imutils.resize(frame, int(width* 0.6), int(height * 0.6))\n",
    "\n",
    "\n",
    "    # detect people in the image\n",
    "    gray = cv2.cvtColor(frame, cv2.COLOR_BGR2GRAY) \n",
    "    (rects, weights) = hog.detectMultiScale(gray, winStride=(2, 2), padding=(2, 2), scale=1.05, hitThreshold = 0.5)\n",
    "\n",
    "    rects = np.array([[x, y, x + w, y + h] for (x, y, w, h) in rects])\n",
    "    pick = non_max_suppression(rects, probs=None, overlapThresh=0.7)\n",
    "    \n",
    "\n",
    "    for i,(xA, yA, xB, yB) in enumerate(pick):\n",
    "        cv2.rectangle(frame, (xA, yA), (xB, yB), (0, 255, 0), 2)\n",
    "        cv2.rectangle(frame, (xA+2, yA-8), (xA+90, yA), (0, 255, 0), 8) #BASELINE\n",
    "        cv2.putText(frame, 'Confidence : %.1f' % (weights[i]), (xA, yA), cv2.FONT_HERSHEY_SIMPLEX, 0.35, (0, 0, 0), 1)\n",
    "\n",
    "    cv2.putText(frame, 'Person : %d' % (len(rects)) , (0,20), cv2.FONT_HERSHEY_SIMPLEX, 0.5, (0, 255, 255))   \n",
    "    cv2.imshow(\"window\", frame)\n",
    "    \n",
    "    if cv2.waitKey(1) & 0xFF == ord('q'):\n",
    "        break\n",
    "        \n",
    "vs.stop()\n",
    "cv2.destroyAllWindows()"
   ]
  },
  {
   "cell_type": "code",
   "execution_count": null,
   "metadata": {},
   "outputs": [],
   "source": []
  }
 ],
 "metadata": {
  "kernelspec": {
   "display_name": "Python 3",
   "language": "python",
   "name": "python3"
  },
  "language_info": {
   "codemirror_mode": {
    "name": "ipython",
    "version": 2
   },
   "file_extension": ".py",
   "mimetype": "text/x-python",
   "name": "python",
   "nbconvert_exporter": "python",
   "pygments_lexer": "ipython2",
   "version": "2.7.12"
  }
 },
 "nbformat": 4,
 "nbformat_minor": 2
}
